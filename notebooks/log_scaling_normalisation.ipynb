{
 "cells": [
  {
   "cell_type": "code",
   "execution_count": 1,
   "metadata": {},
   "outputs": [
    {
     "name": "stdout",
     "output_type": "stream",
     "text": [
      "        Pause Before  Size  Left Span  Right Span  Weight  RL Ratio  WS Ratio\n",
      "0               2589     1          1           1       1  1.000000  1.000000\n",
      "1               2074     1          1           1       1  1.000000  1.000000\n",
      "2               3557     1          1           1       1  1.000000  1.000000\n",
      "3                281     2          2           1       1  0.500000  0.500000\n",
      "4               1997     3          3           1       1  0.333333  0.333333\n",
      "...              ...   ...        ...         ...     ...       ...       ...\n",
      "118508           203     3          3           1       1  0.333333  0.333333\n",
      "118509           530     2          1           2       1  2.000000  0.500000\n",
      "118510           343     2          2           2       2  1.000000  1.000000\n",
      "118511          4243     3          3           2       2  0.666667  0.666667\n",
      "118512          2028     1          1           1       1  1.000000  1.000000\n",
      "\n",
      "[118513 rows x 7 columns]\n"
     ]
    }
   ],
   "source": [
    "import pandas as pd\n",
    "\n",
    "df = pd.read_csv('pause_fluxes.csv')\n",
    "print(df)"
   ]
  },
  {
   "cell_type": "code",
   "execution_count": 2,
   "metadata": {},
   "outputs": [
    {
     "name": "stdout",
     "output_type": "stream",
     "text": [
      "Pause Before    2.425359e+07\n",
      "Size            2.739876e+00\n",
      "Left Span       1.594734e+00\n",
      "Right Span      1.498890e+00\n",
      "Weight          4.882483e-01\n",
      "RL Ratio        6.862192e-01\n",
      "WS Ratio        6.199889e-02\n",
      "dtype: float64\n"
     ]
    }
   ],
   "source": [
    "print(df.var())"
   ]
  },
  {
   "cell_type": "code",
   "execution_count": 3,
   "metadata": {},
   "outputs": [
    {
     "name": "stderr",
     "output_type": "stream",
     "text": [
      "/opt/homebrew/lib/python3.11/site-packages/pandas/core/arraylike.py:402: RuntimeWarning: divide by zero encountered in log\n",
      "  result = getattr(ufunc, method)(*inputs, **kwargs)\n"
     ]
    }
   ],
   "source": [
    "import numpy as np\n",
    "df[\"log_2_pause_before\"] = np.log(df[\"Pause Before\"])\n",
    "df[\"log_2_size\"] = np.log(df[\"Size\"])\n",
    "df[\"log_2_left_span\"] = np.log(df[\"Left Span\"])\n",
    "df[\"log_2_right_span\"] = np.log(df[\"Right Span\"])\n",
    "df[\"log_2_weight\"] = np.log(df[\"Weight\"])\n",
    "df[\"log_2_rl_ratio\"] = np.log(df[\"RL Ratio\"])\n",
    "df[\"log_2_ws_ratio\"] = np.log(df[\"WS Ratio\"])"
   ]
  },
  {
   "cell_type": "code",
   "execution_count": 4,
   "metadata": {},
   "outputs": [
    {
     "name": "stdout",
     "output_type": "stream",
     "text": [
      "        Pause Before  Size  Left Span  Right Span  Weight  RL Ratio  WS Ratio  \\\n",
      "0               2589     1          1           1       1  1.000000  1.000000   \n",
      "1               2074     1          1           1       1  1.000000  1.000000   \n",
      "2               3557     1          1           1       1  1.000000  1.000000   \n",
      "3                281     2          2           1       1  0.500000  0.500000   \n",
      "4               1997     3          3           1       1  0.333333  0.333333   \n",
      "...              ...   ...        ...         ...     ...       ...       ...   \n",
      "118508           203     3          3           1       1  0.333333  0.333333   \n",
      "118509           530     2          1           2       1  2.000000  0.500000   \n",
      "118510           343     2          2           2       2  1.000000  1.000000   \n",
      "118511          4243     3          3           2       2  0.666667  0.666667   \n",
      "118512          2028     1          1           1       1  1.000000  1.000000   \n",
      "\n",
      "        log_2_pause_before  log_2_size  log_2_left_span  log_2_right_span  \\\n",
      "0                 7.859027    0.000000         0.000000          0.000000   \n",
      "1                 7.637234    0.000000         0.000000          0.000000   \n",
      "2                 8.176673    0.000000         0.000000          0.000000   \n",
      "3                 5.638355    0.693147         0.693147          0.000000   \n",
      "4                 7.599401    1.098612         1.098612          0.000000   \n",
      "...                    ...         ...              ...               ...   \n",
      "118508            5.313206    1.098612         1.098612          0.000000   \n",
      "118509            6.272877    0.693147         0.000000          0.693147   \n",
      "118510            5.837730    0.693147         0.693147          0.693147   \n",
      "118511            8.353026    1.098612         1.098612          0.693147   \n",
      "118512            7.614805    0.000000         0.000000          0.000000   \n",
      "\n",
      "        log_2_weight  log_2_rl_ratio  log_2_ws_ratio  \n",
      "0           0.000000        0.000000        0.000000  \n",
      "1           0.000000        0.000000        0.000000  \n",
      "2           0.000000        0.000000        0.000000  \n",
      "3           0.000000       -0.693147       -0.693147  \n",
      "4           0.000000       -1.098612       -1.098612  \n",
      "...              ...             ...             ...  \n",
      "118508      0.000000       -1.098612       -1.098612  \n",
      "118509      0.000000        0.693147       -0.693147  \n",
      "118510      0.693147        0.000000        0.000000  \n",
      "118511      0.693147       -0.405465       -0.405465  \n",
      "118512      0.000000        0.000000        0.000000  \n",
      "\n",
      "[118513 rows x 14 columns]\n"
     ]
    }
   ],
   "source": [
    "print(df)"
   ]
  },
  {
   "cell_type": "code",
   "execution_count": 5,
   "metadata": {},
   "outputs": [
    {
     "data": {
      "application/vnd.plotly.v1+json": {
       "config": {
        "plotlyServerURL": "https://plot.ly"
       },
       "data": [
        {
         "colorscale": [
          [
           0,
           "#440154"
          ],
          [
           0.1111111111111111,
           "#482878"
          ],
          [
           0.2222222222222222,
           "#3e4989"
          ],
          [
           0.3333333333333333,
           "#31688e"
          ],
          [
           0.4444444444444444,
           "#26828e"
          ],
          [
           0.5555555555555556,
           "#1f9e89"
          ],
          [
           0.6666666666666666,
           "#35b779"
          ],
          [
           0.7777777777777778,
           "#6ece58"
          ],
          [
           0.8888888888888888,
           "#b5de2b"
          ],
          [
           1,
           "#fde725"
          ]
         ],
         "reversescale": false,
         "showscale": true,
         "type": "heatmap",
         "x": [
          "Pause Before",
          "Size",
          "Left Span",
          "Right Span",
          "Weight",
          "RL Ratio",
          "WS Ratio",
          "log_2_pause_before",
          "log_2_size",
          "log_2_left_span",
          "log_2_right_span",
          "log_2_weight",
          "log_2_rl_ratio",
          "log_2_ws_ratio"
         ],
         "y": [
          "Pause Before",
          "Size",
          "Left Span",
          "Right Span",
          "Weight",
          "RL Ratio",
          "WS Ratio",
          "log_2_pause_before",
          "log_2_size",
          "log_2_left_span",
          "log_2_right_span",
          "log_2_weight",
          "log_2_rl_ratio",
          "log_2_ws_ratio"
         ],
         "z": [
          [
           1,
           -0.07533748772503183,
           -0.08768835513244878,
           -0.02925656424980441,
           -0.06078407651565931,
           0.023787276374441953,
           0.0803544021099444,
           0.6906961522642309,
           -0.10377960222756182,
           -0.09834458757276539,
           -0.05071929458037933,
           -0.06569248795465747,
           0.04638067863601527,
           0.0688316393201981
          ],
          [
           -0.07533748772503183,
           1,
           0.7461082956646516,
           0.7232211932919803,
           0.5680763439865929,
           0.1619549829230549,
           -0.5973632422921001,
           -0.10688676369008636,
           0.8983265347372351,
           0.7179403775907651,
           0.6139972832702073,
           0.5573567704382838,
           -0.145543185891606,
           -0.6066505552704738
          ],
          [
           -0.08768835513244878,
           0.7461082956646516,
           1,
           0.182460519656871,
           0.5411228667210699,
           -0.443540641957699,
           -0.4953740647044993,
           -0.13196015707615008,
           0.7923788278949676,
           0.959932127159151,
           0.25053359924813023,
           0.5351362170716775,
           -0.6463977183159753,
           -0.49331251566586254
          ],
          [
           -0.02925656424980441,
           0.7232211932919803,
           0.182460519656871,
           1,
           0.5726379320668301,
           0.64909065201087,
           -0.18815371650389265,
           -0.050260615311501805,
           0.5664568842020307,
           0.20404973258399814,
           0.8452812200613526,
           0.5593243860873233,
           0.48991605429398216,
           -0.18289478826607233
          ],
          [
           -0.06078407651565931,
           0.5680763439865929,
           0.5411228667210699,
           0.5726379320668301,
           1,
           -0.0740304052643671,
           0.07597332687456694,
           -0.10868275572479084,
           0.6171115977841126,
           0.5974792072731242,
           0.747471103326774,
           0.9795249844065573,
           0.06619105807260604,
           0.15627366837199513
          ],
          [
           0.023787276374441953,
           0.1619549829230549,
           -0.443540641957699,
           0.64909065201087,
           -0.0740304052643671,
           1,
           -0.03750060471842784,
           0.03413422978481329,
           0.0024789780962885684,
           -0.4754137057311172,
           0.4691385084192134,
           -0.08406563039525318,
           0.7899869566151283,
           -0.08388767133218145
          ],
          [
           0.0803544021099444,
           -0.5973632422921001,
           -0.4953740647044993,
           -0.18815371650389265,
           0.07597332687456694,
           -0.03750060471842784,
           1,
           0.08503780419374608,
           -0.7088880035234885,
           -0.48254434204827423,
           -0.17967970890319712,
           0.07388430393983993,
           0.2823706206683649,
           0.9720825963865182
          ],
          [
           0.6906961522642309,
           -0.10688676369008636,
           -0.13196015707615008,
           -0.050260615311501805,
           -0.10868275572479084,
           0.03413422978481329,
           0.08503780419374608,
           1,
           -0.13953671739125637,
           -0.14609798631619378,
           -0.07367864657921226,
           -0.11055939674084095,
           0.07022340017003062,
           0.07119726865185713
          ],
          [
           -0.10377960222756182,
           0.8983265347372351,
           0.7923788278949676,
           0.5664568842020307,
           0.6171115977841126,
           0.0024789780962885684,
           -0.7088880035234885,
           -0.13953671739125637,
           1,
           0.8214270682985838,
           0.6608786921299079,
           0.6300024907898556,
           -0.19948917270526878,
           -0.6661270464534758
          ],
          [
           -0.09834458757276539,
           0.7179403775907651,
           0.959932127159151,
           0.20404973258399814,
           0.5974792072731242,
           -0.4754137057311172,
           -0.48254434204827423,
           -0.14609798631619378,
           0.8214270682985838,
           1,
           0.28827603100475885,
           0.6131560358929391,
           -0.6517676069851107,
           -0.4553079989342826
          ],
          [
           -0.05071929458037933,
           0.6139972832702073,
           0.25053359924813023,
           0.8452812200613526,
           0.747471103326774,
           0.4691385084192134,
           -0.17967970890319712,
           -0.07367864657921226,
           0.6608786921299079,
           0.28827603100475885,
           1,
           0.761034041891555,
           0.5383328775926123,
           -0.10920040178279554
          ],
          [
           -0.06569248795465747,
           0.5573567704382838,
           0.5351362170716775,
           0.5593243860873233,
           0.9795249844065573,
           -0.08406563039525318,
           0.07388430393983993,
           -0.11055939674084095,
           0.6300024907898556,
           0.6131560358929391,
           0.761034041891555,
           1,
           0.06313639671000737,
           0.15955118186970216
          ],
          [
           0.04638067863601527,
           -0.145543185891606,
           -0.6463977183159753,
           0.48991605429398216,
           0.06619105807260604,
           0.7899869566151283,
           0.2823706206683649,
           0.07022340017003062,
           -0.19948917270526878,
           -0.6517676069851107,
           0.5383328775926123,
           0.06313639671000737,
           1,
           0.3142227076837195
          ],
          [
           0.0688316393201981,
           -0.6066505552704738,
           -0.49331251566586254,
           -0.18289478826607233,
           0.15627366837199513,
           -0.08388767133218145,
           0.9720825963865182,
           0.07119726865185713,
           -0.6661270464534758,
           -0.4553079989342826,
           -0.10920040178279554,
           0.15955118186970216,
           0.3142227076837195,
           1
          ]
         ]
        }
       ],
       "layout": {
        "annotations": [
         {
          "font": {
           "color": "#000000"
          },
          "showarrow": false,
          "text": "1.0",
          "x": "Pause Before",
          "xref": "x",
          "y": "Pause Before",
          "yref": "y"
         },
         {
          "font": {
           "color": "#FFFFFF"
          },
          "showarrow": false,
          "text": "-0.08",
          "x": "Size",
          "xref": "x",
          "y": "Pause Before",
          "yref": "y"
         },
         {
          "font": {
           "color": "#FFFFFF"
          },
          "showarrow": false,
          "text": "-0.09",
          "x": "Left Span",
          "xref": "x",
          "y": "Pause Before",
          "yref": "y"
         },
         {
          "font": {
           "color": "#FFFFFF"
          },
          "showarrow": false,
          "text": "-0.03",
          "x": "Right Span",
          "xref": "x",
          "y": "Pause Before",
          "yref": "y"
         },
         {
          "font": {
           "color": "#FFFFFF"
          },
          "showarrow": false,
          "text": "-0.06",
          "x": "Weight",
          "xref": "x",
          "y": "Pause Before",
          "yref": "y"
         },
         {
          "font": {
           "color": "#FFFFFF"
          },
          "showarrow": false,
          "text": "0.02",
          "x": "RL Ratio",
          "xref": "x",
          "y": "Pause Before",
          "yref": "y"
         },
         {
          "font": {
           "color": "#FFFFFF"
          },
          "showarrow": false,
          "text": "0.08",
          "x": "WS Ratio",
          "xref": "x",
          "y": "Pause Before",
          "yref": "y"
         },
         {
          "font": {
           "color": "#000000"
          },
          "showarrow": false,
          "text": "0.69",
          "x": "log_2_pause_before",
          "xref": "x",
          "y": "Pause Before",
          "yref": "y"
         },
         {
          "font": {
           "color": "#FFFFFF"
          },
          "showarrow": false,
          "text": "-0.1",
          "x": "log_2_size",
          "xref": "x",
          "y": "Pause Before",
          "yref": "y"
         },
         {
          "font": {
           "color": "#FFFFFF"
          },
          "showarrow": false,
          "text": "-0.1",
          "x": "log_2_left_span",
          "xref": "x",
          "y": "Pause Before",
          "yref": "y"
         },
         {
          "font": {
           "color": "#FFFFFF"
          },
          "showarrow": false,
          "text": "-0.05",
          "x": "log_2_right_span",
          "xref": "x",
          "y": "Pause Before",
          "yref": "y"
         },
         {
          "font": {
           "color": "#FFFFFF"
          },
          "showarrow": false,
          "text": "-0.07",
          "x": "log_2_weight",
          "xref": "x",
          "y": "Pause Before",
          "yref": "y"
         },
         {
          "font": {
           "color": "#FFFFFF"
          },
          "showarrow": false,
          "text": "0.05",
          "x": "log_2_rl_ratio",
          "xref": "x",
          "y": "Pause Before",
          "yref": "y"
         },
         {
          "font": {
           "color": "#FFFFFF"
          },
          "showarrow": false,
          "text": "0.07",
          "x": "log_2_ws_ratio",
          "xref": "x",
          "y": "Pause Before",
          "yref": "y"
         },
         {
          "font": {
           "color": "#FFFFFF"
          },
          "showarrow": false,
          "text": "-0.08",
          "x": "Pause Before",
          "xref": "x",
          "y": "Size",
          "yref": "y"
         },
         {
          "font": {
           "color": "#000000"
          },
          "showarrow": false,
          "text": "1.0",
          "x": "Size",
          "xref": "x",
          "y": "Size",
          "yref": "y"
         },
         {
          "font": {
           "color": "#000000"
          },
          "showarrow": false,
          "text": "0.75",
          "x": "Left Span",
          "xref": "x",
          "y": "Size",
          "yref": "y"
         },
         {
          "font": {
           "color": "#000000"
          },
          "showarrow": false,
          "text": "0.72",
          "x": "Right Span",
          "xref": "x",
          "y": "Size",
          "yref": "y"
         },
         {
          "font": {
           "color": "#000000"
          },
          "showarrow": false,
          "text": "0.57",
          "x": "Weight",
          "xref": "x",
          "y": "Size",
          "yref": "y"
         },
         {
          "font": {
           "color": "#000000"
          },
          "showarrow": false,
          "text": "0.16",
          "x": "RL Ratio",
          "xref": "x",
          "y": "Size",
          "yref": "y"
         },
         {
          "font": {
           "color": "#FFFFFF"
          },
          "showarrow": false,
          "text": "-0.6",
          "x": "WS Ratio",
          "xref": "x",
          "y": "Size",
          "yref": "y"
         },
         {
          "font": {
           "color": "#FFFFFF"
          },
          "showarrow": false,
          "text": "-0.11",
          "x": "log_2_pause_before",
          "xref": "x",
          "y": "Size",
          "yref": "y"
         },
         {
          "font": {
           "color": "#000000"
          },
          "showarrow": false,
          "text": "0.9",
          "x": "log_2_size",
          "xref": "x",
          "y": "Size",
          "yref": "y"
         },
         {
          "font": {
           "color": "#000000"
          },
          "showarrow": false,
          "text": "0.72",
          "x": "log_2_left_span",
          "xref": "x",
          "y": "Size",
          "yref": "y"
         },
         {
          "font": {
           "color": "#000000"
          },
          "showarrow": false,
          "text": "0.61",
          "x": "log_2_right_span",
          "xref": "x",
          "y": "Size",
          "yref": "y"
         },
         {
          "font": {
           "color": "#000000"
          },
          "showarrow": false,
          "text": "0.56",
          "x": "log_2_weight",
          "xref": "x",
          "y": "Size",
          "yref": "y"
         },
         {
          "font": {
           "color": "#FFFFFF"
          },
          "showarrow": false,
          "text": "-0.15",
          "x": "log_2_rl_ratio",
          "xref": "x",
          "y": "Size",
          "yref": "y"
         },
         {
          "font": {
           "color": "#FFFFFF"
          },
          "showarrow": false,
          "text": "-0.61",
          "x": "log_2_ws_ratio",
          "xref": "x",
          "y": "Size",
          "yref": "y"
         },
         {
          "font": {
           "color": "#FFFFFF"
          },
          "showarrow": false,
          "text": "-0.09",
          "x": "Pause Before",
          "xref": "x",
          "y": "Left Span",
          "yref": "y"
         },
         {
          "font": {
           "color": "#000000"
          },
          "showarrow": false,
          "text": "0.75",
          "x": "Size",
          "xref": "x",
          "y": "Left Span",
          "yref": "y"
         },
         {
          "font": {
           "color": "#000000"
          },
          "showarrow": false,
          "text": "1.0",
          "x": "Left Span",
          "xref": "x",
          "y": "Left Span",
          "yref": "y"
         },
         {
          "font": {
           "color": "#000000"
          },
          "showarrow": false,
          "text": "0.18",
          "x": "Right Span",
          "xref": "x",
          "y": "Left Span",
          "yref": "y"
         },
         {
          "font": {
           "color": "#000000"
          },
          "showarrow": false,
          "text": "0.54",
          "x": "Weight",
          "xref": "x",
          "y": "Left Span",
          "yref": "y"
         },
         {
          "font": {
           "color": "#FFFFFF"
          },
          "showarrow": false,
          "text": "-0.44",
          "x": "RL Ratio",
          "xref": "x",
          "y": "Left Span",
          "yref": "y"
         },
         {
          "font": {
           "color": "#FFFFFF"
          },
          "showarrow": false,
          "text": "-0.5",
          "x": "WS Ratio",
          "xref": "x",
          "y": "Left Span",
          "yref": "y"
         },
         {
          "font": {
           "color": "#FFFFFF"
          },
          "showarrow": false,
          "text": "-0.13",
          "x": "log_2_pause_before",
          "xref": "x",
          "y": "Left Span",
          "yref": "y"
         },
         {
          "font": {
           "color": "#000000"
          },
          "showarrow": false,
          "text": "0.79",
          "x": "log_2_size",
          "xref": "x",
          "y": "Left Span",
          "yref": "y"
         },
         {
          "font": {
           "color": "#000000"
          },
          "showarrow": false,
          "text": "0.96",
          "x": "log_2_left_span",
          "xref": "x",
          "y": "Left Span",
          "yref": "y"
         },
         {
          "font": {
           "color": "#000000"
          },
          "showarrow": false,
          "text": "0.25",
          "x": "log_2_right_span",
          "xref": "x",
          "y": "Left Span",
          "yref": "y"
         },
         {
          "font": {
           "color": "#000000"
          },
          "showarrow": false,
          "text": "0.54",
          "x": "log_2_weight",
          "xref": "x",
          "y": "Left Span",
          "yref": "y"
         },
         {
          "font": {
           "color": "#FFFFFF"
          },
          "showarrow": false,
          "text": "-0.65",
          "x": "log_2_rl_ratio",
          "xref": "x",
          "y": "Left Span",
          "yref": "y"
         },
         {
          "font": {
           "color": "#FFFFFF"
          },
          "showarrow": false,
          "text": "-0.49",
          "x": "log_2_ws_ratio",
          "xref": "x",
          "y": "Left Span",
          "yref": "y"
         },
         {
          "font": {
           "color": "#FFFFFF"
          },
          "showarrow": false,
          "text": "-0.03",
          "x": "Pause Before",
          "xref": "x",
          "y": "Right Span",
          "yref": "y"
         },
         {
          "font": {
           "color": "#000000"
          },
          "showarrow": false,
          "text": "0.72",
          "x": "Size",
          "xref": "x",
          "y": "Right Span",
          "yref": "y"
         },
         {
          "font": {
           "color": "#000000"
          },
          "showarrow": false,
          "text": "0.18",
          "x": "Left Span",
          "xref": "x",
          "y": "Right Span",
          "yref": "y"
         },
         {
          "font": {
           "color": "#000000"
          },
          "showarrow": false,
          "text": "1.0",
          "x": "Right Span",
          "xref": "x",
          "y": "Right Span",
          "yref": "y"
         },
         {
          "font": {
           "color": "#000000"
          },
          "showarrow": false,
          "text": "0.57",
          "x": "Weight",
          "xref": "x",
          "y": "Right Span",
          "yref": "y"
         },
         {
          "font": {
           "color": "#000000"
          },
          "showarrow": false,
          "text": "0.65",
          "x": "RL Ratio",
          "xref": "x",
          "y": "Right Span",
          "yref": "y"
         },
         {
          "font": {
           "color": "#FFFFFF"
          },
          "showarrow": false,
          "text": "-0.19",
          "x": "WS Ratio",
          "xref": "x",
          "y": "Right Span",
          "yref": "y"
         },
         {
          "font": {
           "color": "#FFFFFF"
          },
          "showarrow": false,
          "text": "-0.05",
          "x": "log_2_pause_before",
          "xref": "x",
          "y": "Right Span",
          "yref": "y"
         },
         {
          "font": {
           "color": "#000000"
          },
          "showarrow": false,
          "text": "0.57",
          "x": "log_2_size",
          "xref": "x",
          "y": "Right Span",
          "yref": "y"
         },
         {
          "font": {
           "color": "#000000"
          },
          "showarrow": false,
          "text": "0.2",
          "x": "log_2_left_span",
          "xref": "x",
          "y": "Right Span",
          "yref": "y"
         },
         {
          "font": {
           "color": "#000000"
          },
          "showarrow": false,
          "text": "0.85",
          "x": "log_2_right_span",
          "xref": "x",
          "y": "Right Span",
          "yref": "y"
         },
         {
          "font": {
           "color": "#000000"
          },
          "showarrow": false,
          "text": "0.56",
          "x": "log_2_weight",
          "xref": "x",
          "y": "Right Span",
          "yref": "y"
         },
         {
          "font": {
           "color": "#000000"
          },
          "showarrow": false,
          "text": "0.49",
          "x": "log_2_rl_ratio",
          "xref": "x",
          "y": "Right Span",
          "yref": "y"
         },
         {
          "font": {
           "color": "#FFFFFF"
          },
          "showarrow": false,
          "text": "-0.18",
          "x": "log_2_ws_ratio",
          "xref": "x",
          "y": "Right Span",
          "yref": "y"
         },
         {
          "font": {
           "color": "#FFFFFF"
          },
          "showarrow": false,
          "text": "-0.06",
          "x": "Pause Before",
          "xref": "x",
          "y": "Weight",
          "yref": "y"
         },
         {
          "font": {
           "color": "#000000"
          },
          "showarrow": false,
          "text": "0.57",
          "x": "Size",
          "xref": "x",
          "y": "Weight",
          "yref": "y"
         },
         {
          "font": {
           "color": "#000000"
          },
          "showarrow": false,
          "text": "0.54",
          "x": "Left Span",
          "xref": "x",
          "y": "Weight",
          "yref": "y"
         },
         {
          "font": {
           "color": "#000000"
          },
          "showarrow": false,
          "text": "0.57",
          "x": "Right Span",
          "xref": "x",
          "y": "Weight",
          "yref": "y"
         },
         {
          "font": {
           "color": "#000000"
          },
          "showarrow": false,
          "text": "1.0",
          "x": "Weight",
          "xref": "x",
          "y": "Weight",
          "yref": "y"
         },
         {
          "font": {
           "color": "#FFFFFF"
          },
          "showarrow": false,
          "text": "-0.07",
          "x": "RL Ratio",
          "xref": "x",
          "y": "Weight",
          "yref": "y"
         },
         {
          "font": {
           "color": "#FFFFFF"
          },
          "showarrow": false,
          "text": "0.08",
          "x": "WS Ratio",
          "xref": "x",
          "y": "Weight",
          "yref": "y"
         },
         {
          "font": {
           "color": "#FFFFFF"
          },
          "showarrow": false,
          "text": "-0.11",
          "x": "log_2_pause_before",
          "xref": "x",
          "y": "Weight",
          "yref": "y"
         },
         {
          "font": {
           "color": "#000000"
          },
          "showarrow": false,
          "text": "0.62",
          "x": "log_2_size",
          "xref": "x",
          "y": "Weight",
          "yref": "y"
         },
         {
          "font": {
           "color": "#000000"
          },
          "showarrow": false,
          "text": "0.6",
          "x": "log_2_left_span",
          "xref": "x",
          "y": "Weight",
          "yref": "y"
         },
         {
          "font": {
           "color": "#000000"
          },
          "showarrow": false,
          "text": "0.75",
          "x": "log_2_right_span",
          "xref": "x",
          "y": "Weight",
          "yref": "y"
         },
         {
          "font": {
           "color": "#000000"
          },
          "showarrow": false,
          "text": "0.98",
          "x": "log_2_weight",
          "xref": "x",
          "y": "Weight",
          "yref": "y"
         },
         {
          "font": {
           "color": "#FFFFFF"
          },
          "showarrow": false,
          "text": "0.07",
          "x": "log_2_rl_ratio",
          "xref": "x",
          "y": "Weight",
          "yref": "y"
         },
         {
          "font": {
           "color": "#000000"
          },
          "showarrow": false,
          "text": "0.16",
          "x": "log_2_ws_ratio",
          "xref": "x",
          "y": "Weight",
          "yref": "y"
         },
         {
          "font": {
           "color": "#FFFFFF"
          },
          "showarrow": false,
          "text": "0.02",
          "x": "Pause Before",
          "xref": "x",
          "y": "RL Ratio",
          "yref": "y"
         },
         {
          "font": {
           "color": "#000000"
          },
          "showarrow": false,
          "text": "0.16",
          "x": "Size",
          "xref": "x",
          "y": "RL Ratio",
          "yref": "y"
         },
         {
          "font": {
           "color": "#FFFFFF"
          },
          "showarrow": false,
          "text": "-0.44",
          "x": "Left Span",
          "xref": "x",
          "y": "RL Ratio",
          "yref": "y"
         },
         {
          "font": {
           "color": "#000000"
          },
          "showarrow": false,
          "text": "0.65",
          "x": "Right Span",
          "xref": "x",
          "y": "RL Ratio",
          "yref": "y"
         },
         {
          "font": {
           "color": "#FFFFFF"
          },
          "showarrow": false,
          "text": "-0.07",
          "x": "Weight",
          "xref": "x",
          "y": "RL Ratio",
          "yref": "y"
         },
         {
          "font": {
           "color": "#000000"
          },
          "showarrow": false,
          "text": "1.0",
          "x": "RL Ratio",
          "xref": "x",
          "y": "RL Ratio",
          "yref": "y"
         },
         {
          "font": {
           "color": "#FFFFFF"
          },
          "showarrow": false,
          "text": "-0.04",
          "x": "WS Ratio",
          "xref": "x",
          "y": "RL Ratio",
          "yref": "y"
         },
         {
          "font": {
           "color": "#FFFFFF"
          },
          "showarrow": false,
          "text": "0.03",
          "x": "log_2_pause_before",
          "xref": "x",
          "y": "RL Ratio",
          "yref": "y"
         },
         {
          "font": {
           "color": "#FFFFFF"
          },
          "showarrow": false,
          "text": "0.0",
          "x": "log_2_size",
          "xref": "x",
          "y": "RL Ratio",
          "yref": "y"
         },
         {
          "font": {
           "color": "#FFFFFF"
          },
          "showarrow": false,
          "text": "-0.48",
          "x": "log_2_left_span",
          "xref": "x",
          "y": "RL Ratio",
          "yref": "y"
         },
         {
          "font": {
           "color": "#000000"
          },
          "showarrow": false,
          "text": "0.47",
          "x": "log_2_right_span",
          "xref": "x",
          "y": "RL Ratio",
          "yref": "y"
         },
         {
          "font": {
           "color": "#FFFFFF"
          },
          "showarrow": false,
          "text": "-0.08",
          "x": "log_2_weight",
          "xref": "x",
          "y": "RL Ratio",
          "yref": "y"
         },
         {
          "font": {
           "color": "#000000"
          },
          "showarrow": false,
          "text": "0.79",
          "x": "log_2_rl_ratio",
          "xref": "x",
          "y": "RL Ratio",
          "yref": "y"
         },
         {
          "font": {
           "color": "#FFFFFF"
          },
          "showarrow": false,
          "text": "-0.08",
          "x": "log_2_ws_ratio",
          "xref": "x",
          "y": "RL Ratio",
          "yref": "y"
         },
         {
          "font": {
           "color": "#FFFFFF"
          },
          "showarrow": false,
          "text": "0.08",
          "x": "Pause Before",
          "xref": "x",
          "y": "WS Ratio",
          "yref": "y"
         },
         {
          "font": {
           "color": "#FFFFFF"
          },
          "showarrow": false,
          "text": "-0.6",
          "x": "Size",
          "xref": "x",
          "y": "WS Ratio",
          "yref": "y"
         },
         {
          "font": {
           "color": "#FFFFFF"
          },
          "showarrow": false,
          "text": "-0.5",
          "x": "Left Span",
          "xref": "x",
          "y": "WS Ratio",
          "yref": "y"
         },
         {
          "font": {
           "color": "#FFFFFF"
          },
          "showarrow": false,
          "text": "-0.19",
          "x": "Right Span",
          "xref": "x",
          "y": "WS Ratio",
          "yref": "y"
         },
         {
          "font": {
           "color": "#FFFFFF"
          },
          "showarrow": false,
          "text": "0.08",
          "x": "Weight",
          "xref": "x",
          "y": "WS Ratio",
          "yref": "y"
         },
         {
          "font": {
           "color": "#FFFFFF"
          },
          "showarrow": false,
          "text": "-0.04",
          "x": "RL Ratio",
          "xref": "x",
          "y": "WS Ratio",
          "yref": "y"
         },
         {
          "font": {
           "color": "#000000"
          },
          "showarrow": false,
          "text": "1.0",
          "x": "WS Ratio",
          "xref": "x",
          "y": "WS Ratio",
          "yref": "y"
         },
         {
          "font": {
           "color": "#FFFFFF"
          },
          "showarrow": false,
          "text": "0.09",
          "x": "log_2_pause_before",
          "xref": "x",
          "y": "WS Ratio",
          "yref": "y"
         },
         {
          "font": {
           "color": "#FFFFFF"
          },
          "showarrow": false,
          "text": "-0.71",
          "x": "log_2_size",
          "xref": "x",
          "y": "WS Ratio",
          "yref": "y"
         },
         {
          "font": {
           "color": "#FFFFFF"
          },
          "showarrow": false,
          "text": "-0.48",
          "x": "log_2_left_span",
          "xref": "x",
          "y": "WS Ratio",
          "yref": "y"
         },
         {
          "font": {
           "color": "#FFFFFF"
          },
          "showarrow": false,
          "text": "-0.18",
          "x": "log_2_right_span",
          "xref": "x",
          "y": "WS Ratio",
          "yref": "y"
         },
         {
          "font": {
           "color": "#FFFFFF"
          },
          "showarrow": false,
          "text": "0.07",
          "x": "log_2_weight",
          "xref": "x",
          "y": "WS Ratio",
          "yref": "y"
         },
         {
          "font": {
           "color": "#000000"
          },
          "showarrow": false,
          "text": "0.28",
          "x": "log_2_rl_ratio",
          "xref": "x",
          "y": "WS Ratio",
          "yref": "y"
         },
         {
          "font": {
           "color": "#000000"
          },
          "showarrow": false,
          "text": "0.97",
          "x": "log_2_ws_ratio",
          "xref": "x",
          "y": "WS Ratio",
          "yref": "y"
         },
         {
          "font": {
           "color": "#000000"
          },
          "showarrow": false,
          "text": "0.69",
          "x": "Pause Before",
          "xref": "x",
          "y": "log_2_pause_before",
          "yref": "y"
         },
         {
          "font": {
           "color": "#FFFFFF"
          },
          "showarrow": false,
          "text": "-0.11",
          "x": "Size",
          "xref": "x",
          "y": "log_2_pause_before",
          "yref": "y"
         },
         {
          "font": {
           "color": "#FFFFFF"
          },
          "showarrow": false,
          "text": "-0.13",
          "x": "Left Span",
          "xref": "x",
          "y": "log_2_pause_before",
          "yref": "y"
         },
         {
          "font": {
           "color": "#FFFFFF"
          },
          "showarrow": false,
          "text": "-0.05",
          "x": "Right Span",
          "xref": "x",
          "y": "log_2_pause_before",
          "yref": "y"
         },
         {
          "font": {
           "color": "#FFFFFF"
          },
          "showarrow": false,
          "text": "-0.11",
          "x": "Weight",
          "xref": "x",
          "y": "log_2_pause_before",
          "yref": "y"
         },
         {
          "font": {
           "color": "#FFFFFF"
          },
          "showarrow": false,
          "text": "0.03",
          "x": "RL Ratio",
          "xref": "x",
          "y": "log_2_pause_before",
          "yref": "y"
         },
         {
          "font": {
           "color": "#FFFFFF"
          },
          "showarrow": false,
          "text": "0.09",
          "x": "WS Ratio",
          "xref": "x",
          "y": "log_2_pause_before",
          "yref": "y"
         },
         {
          "font": {
           "color": "#000000"
          },
          "showarrow": false,
          "text": "1.0",
          "x": "log_2_pause_before",
          "xref": "x",
          "y": "log_2_pause_before",
          "yref": "y"
         },
         {
          "font": {
           "color": "#FFFFFF"
          },
          "showarrow": false,
          "text": "-0.14",
          "x": "log_2_size",
          "xref": "x",
          "y": "log_2_pause_before",
          "yref": "y"
         },
         {
          "font": {
           "color": "#FFFFFF"
          },
          "showarrow": false,
          "text": "-0.15",
          "x": "log_2_left_span",
          "xref": "x",
          "y": "log_2_pause_before",
          "yref": "y"
         },
         {
          "font": {
           "color": "#FFFFFF"
          },
          "showarrow": false,
          "text": "-0.07",
          "x": "log_2_right_span",
          "xref": "x",
          "y": "log_2_pause_before",
          "yref": "y"
         },
         {
          "font": {
           "color": "#FFFFFF"
          },
          "showarrow": false,
          "text": "-0.11",
          "x": "log_2_weight",
          "xref": "x",
          "y": "log_2_pause_before",
          "yref": "y"
         },
         {
          "font": {
           "color": "#FFFFFF"
          },
          "showarrow": false,
          "text": "0.07",
          "x": "log_2_rl_ratio",
          "xref": "x",
          "y": "log_2_pause_before",
          "yref": "y"
         },
         {
          "font": {
           "color": "#FFFFFF"
          },
          "showarrow": false,
          "text": "0.07",
          "x": "log_2_ws_ratio",
          "xref": "x",
          "y": "log_2_pause_before",
          "yref": "y"
         },
         {
          "font": {
           "color": "#FFFFFF"
          },
          "showarrow": false,
          "text": "-0.1",
          "x": "Pause Before",
          "xref": "x",
          "y": "log_2_size",
          "yref": "y"
         },
         {
          "font": {
           "color": "#000000"
          },
          "showarrow": false,
          "text": "0.9",
          "x": "Size",
          "xref": "x",
          "y": "log_2_size",
          "yref": "y"
         },
         {
          "font": {
           "color": "#000000"
          },
          "showarrow": false,
          "text": "0.79",
          "x": "Left Span",
          "xref": "x",
          "y": "log_2_size",
          "yref": "y"
         },
         {
          "font": {
           "color": "#000000"
          },
          "showarrow": false,
          "text": "0.57",
          "x": "Right Span",
          "xref": "x",
          "y": "log_2_size",
          "yref": "y"
         },
         {
          "font": {
           "color": "#000000"
          },
          "showarrow": false,
          "text": "0.62",
          "x": "Weight",
          "xref": "x",
          "y": "log_2_size",
          "yref": "y"
         },
         {
          "font": {
           "color": "#FFFFFF"
          },
          "showarrow": false,
          "text": "0.0",
          "x": "RL Ratio",
          "xref": "x",
          "y": "log_2_size",
          "yref": "y"
         },
         {
          "font": {
           "color": "#FFFFFF"
          },
          "showarrow": false,
          "text": "-0.71",
          "x": "WS Ratio",
          "xref": "x",
          "y": "log_2_size",
          "yref": "y"
         },
         {
          "font": {
           "color": "#FFFFFF"
          },
          "showarrow": false,
          "text": "-0.14",
          "x": "log_2_pause_before",
          "xref": "x",
          "y": "log_2_size",
          "yref": "y"
         },
         {
          "font": {
           "color": "#000000"
          },
          "showarrow": false,
          "text": "1.0",
          "x": "log_2_size",
          "xref": "x",
          "y": "log_2_size",
          "yref": "y"
         },
         {
          "font": {
           "color": "#000000"
          },
          "showarrow": false,
          "text": "0.82",
          "x": "log_2_left_span",
          "xref": "x",
          "y": "log_2_size",
          "yref": "y"
         },
         {
          "font": {
           "color": "#000000"
          },
          "showarrow": false,
          "text": "0.66",
          "x": "log_2_right_span",
          "xref": "x",
          "y": "log_2_size",
          "yref": "y"
         },
         {
          "font": {
           "color": "#000000"
          },
          "showarrow": false,
          "text": "0.63",
          "x": "log_2_weight",
          "xref": "x",
          "y": "log_2_size",
          "yref": "y"
         },
         {
          "font": {
           "color": "#FFFFFF"
          },
          "showarrow": false,
          "text": "-0.2",
          "x": "log_2_rl_ratio",
          "xref": "x",
          "y": "log_2_size",
          "yref": "y"
         },
         {
          "font": {
           "color": "#FFFFFF"
          },
          "showarrow": false,
          "text": "-0.67",
          "x": "log_2_ws_ratio",
          "xref": "x",
          "y": "log_2_size",
          "yref": "y"
         },
         {
          "font": {
           "color": "#FFFFFF"
          },
          "showarrow": false,
          "text": "-0.1",
          "x": "Pause Before",
          "xref": "x",
          "y": "log_2_left_span",
          "yref": "y"
         },
         {
          "font": {
           "color": "#000000"
          },
          "showarrow": false,
          "text": "0.72",
          "x": "Size",
          "xref": "x",
          "y": "log_2_left_span",
          "yref": "y"
         },
         {
          "font": {
           "color": "#000000"
          },
          "showarrow": false,
          "text": "0.96",
          "x": "Left Span",
          "xref": "x",
          "y": "log_2_left_span",
          "yref": "y"
         },
         {
          "font": {
           "color": "#000000"
          },
          "showarrow": false,
          "text": "0.2",
          "x": "Right Span",
          "xref": "x",
          "y": "log_2_left_span",
          "yref": "y"
         },
         {
          "font": {
           "color": "#000000"
          },
          "showarrow": false,
          "text": "0.6",
          "x": "Weight",
          "xref": "x",
          "y": "log_2_left_span",
          "yref": "y"
         },
         {
          "font": {
           "color": "#FFFFFF"
          },
          "showarrow": false,
          "text": "-0.48",
          "x": "RL Ratio",
          "xref": "x",
          "y": "log_2_left_span",
          "yref": "y"
         },
         {
          "font": {
           "color": "#FFFFFF"
          },
          "showarrow": false,
          "text": "-0.48",
          "x": "WS Ratio",
          "xref": "x",
          "y": "log_2_left_span",
          "yref": "y"
         },
         {
          "font": {
           "color": "#FFFFFF"
          },
          "showarrow": false,
          "text": "-0.15",
          "x": "log_2_pause_before",
          "xref": "x",
          "y": "log_2_left_span",
          "yref": "y"
         },
         {
          "font": {
           "color": "#000000"
          },
          "showarrow": false,
          "text": "0.82",
          "x": "log_2_size",
          "xref": "x",
          "y": "log_2_left_span",
          "yref": "y"
         },
         {
          "font": {
           "color": "#000000"
          },
          "showarrow": false,
          "text": "1.0",
          "x": "log_2_left_span",
          "xref": "x",
          "y": "log_2_left_span",
          "yref": "y"
         },
         {
          "font": {
           "color": "#000000"
          },
          "showarrow": false,
          "text": "0.29",
          "x": "log_2_right_span",
          "xref": "x",
          "y": "log_2_left_span",
          "yref": "y"
         },
         {
          "font": {
           "color": "#000000"
          },
          "showarrow": false,
          "text": "0.61",
          "x": "log_2_weight",
          "xref": "x",
          "y": "log_2_left_span",
          "yref": "y"
         },
         {
          "font": {
           "color": "#FFFFFF"
          },
          "showarrow": false,
          "text": "-0.65",
          "x": "log_2_rl_ratio",
          "xref": "x",
          "y": "log_2_left_span",
          "yref": "y"
         },
         {
          "font": {
           "color": "#FFFFFF"
          },
          "showarrow": false,
          "text": "-0.46",
          "x": "log_2_ws_ratio",
          "xref": "x",
          "y": "log_2_left_span",
          "yref": "y"
         },
         {
          "font": {
           "color": "#FFFFFF"
          },
          "showarrow": false,
          "text": "-0.05",
          "x": "Pause Before",
          "xref": "x",
          "y": "log_2_right_span",
          "yref": "y"
         },
         {
          "font": {
           "color": "#000000"
          },
          "showarrow": false,
          "text": "0.61",
          "x": "Size",
          "xref": "x",
          "y": "log_2_right_span",
          "yref": "y"
         },
         {
          "font": {
           "color": "#000000"
          },
          "showarrow": false,
          "text": "0.25",
          "x": "Left Span",
          "xref": "x",
          "y": "log_2_right_span",
          "yref": "y"
         },
         {
          "font": {
           "color": "#000000"
          },
          "showarrow": false,
          "text": "0.85",
          "x": "Right Span",
          "xref": "x",
          "y": "log_2_right_span",
          "yref": "y"
         },
         {
          "font": {
           "color": "#000000"
          },
          "showarrow": false,
          "text": "0.75",
          "x": "Weight",
          "xref": "x",
          "y": "log_2_right_span",
          "yref": "y"
         },
         {
          "font": {
           "color": "#000000"
          },
          "showarrow": false,
          "text": "0.47",
          "x": "RL Ratio",
          "xref": "x",
          "y": "log_2_right_span",
          "yref": "y"
         },
         {
          "font": {
           "color": "#FFFFFF"
          },
          "showarrow": false,
          "text": "-0.18",
          "x": "WS Ratio",
          "xref": "x",
          "y": "log_2_right_span",
          "yref": "y"
         },
         {
          "font": {
           "color": "#FFFFFF"
          },
          "showarrow": false,
          "text": "-0.07",
          "x": "log_2_pause_before",
          "xref": "x",
          "y": "log_2_right_span",
          "yref": "y"
         },
         {
          "font": {
           "color": "#000000"
          },
          "showarrow": false,
          "text": "0.66",
          "x": "log_2_size",
          "xref": "x",
          "y": "log_2_right_span",
          "yref": "y"
         },
         {
          "font": {
           "color": "#000000"
          },
          "showarrow": false,
          "text": "0.29",
          "x": "log_2_left_span",
          "xref": "x",
          "y": "log_2_right_span",
          "yref": "y"
         },
         {
          "font": {
           "color": "#000000"
          },
          "showarrow": false,
          "text": "1.0",
          "x": "log_2_right_span",
          "xref": "x",
          "y": "log_2_right_span",
          "yref": "y"
         },
         {
          "font": {
           "color": "#000000"
          },
          "showarrow": false,
          "text": "0.76",
          "x": "log_2_weight",
          "xref": "x",
          "y": "log_2_right_span",
          "yref": "y"
         },
         {
          "font": {
           "color": "#000000"
          },
          "showarrow": false,
          "text": "0.54",
          "x": "log_2_rl_ratio",
          "xref": "x",
          "y": "log_2_right_span",
          "yref": "y"
         },
         {
          "font": {
           "color": "#FFFFFF"
          },
          "showarrow": false,
          "text": "-0.11",
          "x": "log_2_ws_ratio",
          "xref": "x",
          "y": "log_2_right_span",
          "yref": "y"
         },
         {
          "font": {
           "color": "#FFFFFF"
          },
          "showarrow": false,
          "text": "-0.07",
          "x": "Pause Before",
          "xref": "x",
          "y": "log_2_weight",
          "yref": "y"
         },
         {
          "font": {
           "color": "#000000"
          },
          "showarrow": false,
          "text": "0.56",
          "x": "Size",
          "xref": "x",
          "y": "log_2_weight",
          "yref": "y"
         },
         {
          "font": {
           "color": "#000000"
          },
          "showarrow": false,
          "text": "0.54",
          "x": "Left Span",
          "xref": "x",
          "y": "log_2_weight",
          "yref": "y"
         },
         {
          "font": {
           "color": "#000000"
          },
          "showarrow": false,
          "text": "0.56",
          "x": "Right Span",
          "xref": "x",
          "y": "log_2_weight",
          "yref": "y"
         },
         {
          "font": {
           "color": "#000000"
          },
          "showarrow": false,
          "text": "0.98",
          "x": "Weight",
          "xref": "x",
          "y": "log_2_weight",
          "yref": "y"
         },
         {
          "font": {
           "color": "#FFFFFF"
          },
          "showarrow": false,
          "text": "-0.08",
          "x": "RL Ratio",
          "xref": "x",
          "y": "log_2_weight",
          "yref": "y"
         },
         {
          "font": {
           "color": "#FFFFFF"
          },
          "showarrow": false,
          "text": "0.07",
          "x": "WS Ratio",
          "xref": "x",
          "y": "log_2_weight",
          "yref": "y"
         },
         {
          "font": {
           "color": "#FFFFFF"
          },
          "showarrow": false,
          "text": "-0.11",
          "x": "log_2_pause_before",
          "xref": "x",
          "y": "log_2_weight",
          "yref": "y"
         },
         {
          "font": {
           "color": "#000000"
          },
          "showarrow": false,
          "text": "0.63",
          "x": "log_2_size",
          "xref": "x",
          "y": "log_2_weight",
          "yref": "y"
         },
         {
          "font": {
           "color": "#000000"
          },
          "showarrow": false,
          "text": "0.61",
          "x": "log_2_left_span",
          "xref": "x",
          "y": "log_2_weight",
          "yref": "y"
         },
         {
          "font": {
           "color": "#000000"
          },
          "showarrow": false,
          "text": "0.76",
          "x": "log_2_right_span",
          "xref": "x",
          "y": "log_2_weight",
          "yref": "y"
         },
         {
          "font": {
           "color": "#000000"
          },
          "showarrow": false,
          "text": "1.0",
          "x": "log_2_weight",
          "xref": "x",
          "y": "log_2_weight",
          "yref": "y"
         },
         {
          "font": {
           "color": "#FFFFFF"
          },
          "showarrow": false,
          "text": "0.06",
          "x": "log_2_rl_ratio",
          "xref": "x",
          "y": "log_2_weight",
          "yref": "y"
         },
         {
          "font": {
           "color": "#000000"
          },
          "showarrow": false,
          "text": "0.16",
          "x": "log_2_ws_ratio",
          "xref": "x",
          "y": "log_2_weight",
          "yref": "y"
         },
         {
          "font": {
           "color": "#FFFFFF"
          },
          "showarrow": false,
          "text": "0.05",
          "x": "Pause Before",
          "xref": "x",
          "y": "log_2_rl_ratio",
          "yref": "y"
         },
         {
          "font": {
           "color": "#FFFFFF"
          },
          "showarrow": false,
          "text": "-0.15",
          "x": "Size",
          "xref": "x",
          "y": "log_2_rl_ratio",
          "yref": "y"
         },
         {
          "font": {
           "color": "#FFFFFF"
          },
          "showarrow": false,
          "text": "-0.65",
          "x": "Left Span",
          "xref": "x",
          "y": "log_2_rl_ratio",
          "yref": "y"
         },
         {
          "font": {
           "color": "#000000"
          },
          "showarrow": false,
          "text": "0.49",
          "x": "Right Span",
          "xref": "x",
          "y": "log_2_rl_ratio",
          "yref": "y"
         },
         {
          "font": {
           "color": "#FFFFFF"
          },
          "showarrow": false,
          "text": "0.07",
          "x": "Weight",
          "xref": "x",
          "y": "log_2_rl_ratio",
          "yref": "y"
         },
         {
          "font": {
           "color": "#000000"
          },
          "showarrow": false,
          "text": "0.79",
          "x": "RL Ratio",
          "xref": "x",
          "y": "log_2_rl_ratio",
          "yref": "y"
         },
         {
          "font": {
           "color": "#000000"
          },
          "showarrow": false,
          "text": "0.28",
          "x": "WS Ratio",
          "xref": "x",
          "y": "log_2_rl_ratio",
          "yref": "y"
         },
         {
          "font": {
           "color": "#FFFFFF"
          },
          "showarrow": false,
          "text": "0.07",
          "x": "log_2_pause_before",
          "xref": "x",
          "y": "log_2_rl_ratio",
          "yref": "y"
         },
         {
          "font": {
           "color": "#FFFFFF"
          },
          "showarrow": false,
          "text": "-0.2",
          "x": "log_2_size",
          "xref": "x",
          "y": "log_2_rl_ratio",
          "yref": "y"
         },
         {
          "font": {
           "color": "#FFFFFF"
          },
          "showarrow": false,
          "text": "-0.65",
          "x": "log_2_left_span",
          "xref": "x",
          "y": "log_2_rl_ratio",
          "yref": "y"
         },
         {
          "font": {
           "color": "#000000"
          },
          "showarrow": false,
          "text": "0.54",
          "x": "log_2_right_span",
          "xref": "x",
          "y": "log_2_rl_ratio",
          "yref": "y"
         },
         {
          "font": {
           "color": "#FFFFFF"
          },
          "showarrow": false,
          "text": "0.06",
          "x": "log_2_weight",
          "xref": "x",
          "y": "log_2_rl_ratio",
          "yref": "y"
         },
         {
          "font": {
           "color": "#000000"
          },
          "showarrow": false,
          "text": "1.0",
          "x": "log_2_rl_ratio",
          "xref": "x",
          "y": "log_2_rl_ratio",
          "yref": "y"
         },
         {
          "font": {
           "color": "#000000"
          },
          "showarrow": false,
          "text": "0.31",
          "x": "log_2_ws_ratio",
          "xref": "x",
          "y": "log_2_rl_ratio",
          "yref": "y"
         },
         {
          "font": {
           "color": "#FFFFFF"
          },
          "showarrow": false,
          "text": "0.07",
          "x": "Pause Before",
          "xref": "x",
          "y": "log_2_ws_ratio",
          "yref": "y"
         },
         {
          "font": {
           "color": "#FFFFFF"
          },
          "showarrow": false,
          "text": "-0.61",
          "x": "Size",
          "xref": "x",
          "y": "log_2_ws_ratio",
          "yref": "y"
         },
         {
          "font": {
           "color": "#FFFFFF"
          },
          "showarrow": false,
          "text": "-0.49",
          "x": "Left Span",
          "xref": "x",
          "y": "log_2_ws_ratio",
          "yref": "y"
         },
         {
          "font": {
           "color": "#FFFFFF"
          },
          "showarrow": false,
          "text": "-0.18",
          "x": "Right Span",
          "xref": "x",
          "y": "log_2_ws_ratio",
          "yref": "y"
         },
         {
          "font": {
           "color": "#000000"
          },
          "showarrow": false,
          "text": "0.16",
          "x": "Weight",
          "xref": "x",
          "y": "log_2_ws_ratio",
          "yref": "y"
         },
         {
          "font": {
           "color": "#FFFFFF"
          },
          "showarrow": false,
          "text": "-0.08",
          "x": "RL Ratio",
          "xref": "x",
          "y": "log_2_ws_ratio",
          "yref": "y"
         },
         {
          "font": {
           "color": "#000000"
          },
          "showarrow": false,
          "text": "0.97",
          "x": "WS Ratio",
          "xref": "x",
          "y": "log_2_ws_ratio",
          "yref": "y"
         },
         {
          "font": {
           "color": "#FFFFFF"
          },
          "showarrow": false,
          "text": "0.07",
          "x": "log_2_pause_before",
          "xref": "x",
          "y": "log_2_ws_ratio",
          "yref": "y"
         },
         {
          "font": {
           "color": "#FFFFFF"
          },
          "showarrow": false,
          "text": "-0.67",
          "x": "log_2_size",
          "xref": "x",
          "y": "log_2_ws_ratio",
          "yref": "y"
         },
         {
          "font": {
           "color": "#FFFFFF"
          },
          "showarrow": false,
          "text": "-0.46",
          "x": "log_2_left_span",
          "xref": "x",
          "y": "log_2_ws_ratio",
          "yref": "y"
         },
         {
          "font": {
           "color": "#FFFFFF"
          },
          "showarrow": false,
          "text": "-0.11",
          "x": "log_2_right_span",
          "xref": "x",
          "y": "log_2_ws_ratio",
          "yref": "y"
         },
         {
          "font": {
           "color": "#000000"
          },
          "showarrow": false,
          "text": "0.16",
          "x": "log_2_weight",
          "xref": "x",
          "y": "log_2_ws_ratio",
          "yref": "y"
         },
         {
          "font": {
           "color": "#000000"
          },
          "showarrow": false,
          "text": "0.31",
          "x": "log_2_rl_ratio",
          "xref": "x",
          "y": "log_2_ws_ratio",
          "yref": "y"
         },
         {
          "font": {
           "color": "#000000"
          },
          "showarrow": false,
          "text": "1.0",
          "x": "log_2_ws_ratio",
          "xref": "x",
          "y": "log_2_ws_ratio",
          "yref": "y"
         }
        ],
        "height": 720,
        "template": {
         "data": {
          "bar": [
           {
            "error_x": {
             "color": "#2a3f5f"
            },
            "error_y": {
             "color": "#2a3f5f"
            },
            "marker": {
             "line": {
              "color": "#E5ECF6",
              "width": 0.5
             },
             "pattern": {
              "fillmode": "overlay",
              "size": 10,
              "solidity": 0.2
             }
            },
            "type": "bar"
           }
          ],
          "barpolar": [
           {
            "marker": {
             "line": {
              "color": "#E5ECF6",
              "width": 0.5
             },
             "pattern": {
              "fillmode": "overlay",
              "size": 10,
              "solidity": 0.2
             }
            },
            "type": "barpolar"
           }
          ],
          "carpet": [
           {
            "aaxis": {
             "endlinecolor": "#2a3f5f",
             "gridcolor": "white",
             "linecolor": "white",
             "minorgridcolor": "white",
             "startlinecolor": "#2a3f5f"
            },
            "baxis": {
             "endlinecolor": "#2a3f5f",
             "gridcolor": "white",
             "linecolor": "white",
             "minorgridcolor": "white",
             "startlinecolor": "#2a3f5f"
            },
            "type": "carpet"
           }
          ],
          "choropleth": [
           {
            "colorbar": {
             "outlinewidth": 0,
             "ticks": ""
            },
            "type": "choropleth"
           }
          ],
          "contour": [
           {
            "colorbar": {
             "outlinewidth": 0,
             "ticks": ""
            },
            "colorscale": [
             [
              0,
              "#0d0887"
             ],
             [
              0.1111111111111111,
              "#46039f"
             ],
             [
              0.2222222222222222,
              "#7201a8"
             ],
             [
              0.3333333333333333,
              "#9c179e"
             ],
             [
              0.4444444444444444,
              "#bd3786"
             ],
             [
              0.5555555555555556,
              "#d8576b"
             ],
             [
              0.6666666666666666,
              "#ed7953"
             ],
             [
              0.7777777777777778,
              "#fb9f3a"
             ],
             [
              0.8888888888888888,
              "#fdca26"
             ],
             [
              1,
              "#f0f921"
             ]
            ],
            "type": "contour"
           }
          ],
          "contourcarpet": [
           {
            "colorbar": {
             "outlinewidth": 0,
             "ticks": ""
            },
            "type": "contourcarpet"
           }
          ],
          "heatmap": [
           {
            "colorbar": {
             "outlinewidth": 0,
             "ticks": ""
            },
            "colorscale": [
             [
              0,
              "#0d0887"
             ],
             [
              0.1111111111111111,
              "#46039f"
             ],
             [
              0.2222222222222222,
              "#7201a8"
             ],
             [
              0.3333333333333333,
              "#9c179e"
             ],
             [
              0.4444444444444444,
              "#bd3786"
             ],
             [
              0.5555555555555556,
              "#d8576b"
             ],
             [
              0.6666666666666666,
              "#ed7953"
             ],
             [
              0.7777777777777778,
              "#fb9f3a"
             ],
             [
              0.8888888888888888,
              "#fdca26"
             ],
             [
              1,
              "#f0f921"
             ]
            ],
            "type": "heatmap"
           }
          ],
          "heatmapgl": [
           {
            "colorbar": {
             "outlinewidth": 0,
             "ticks": ""
            },
            "colorscale": [
             [
              0,
              "#0d0887"
             ],
             [
              0.1111111111111111,
              "#46039f"
             ],
             [
              0.2222222222222222,
              "#7201a8"
             ],
             [
              0.3333333333333333,
              "#9c179e"
             ],
             [
              0.4444444444444444,
              "#bd3786"
             ],
             [
              0.5555555555555556,
              "#d8576b"
             ],
             [
              0.6666666666666666,
              "#ed7953"
             ],
             [
              0.7777777777777778,
              "#fb9f3a"
             ],
             [
              0.8888888888888888,
              "#fdca26"
             ],
             [
              1,
              "#f0f921"
             ]
            ],
            "type": "heatmapgl"
           }
          ],
          "histogram": [
           {
            "marker": {
             "pattern": {
              "fillmode": "overlay",
              "size": 10,
              "solidity": 0.2
             }
            },
            "type": "histogram"
           }
          ],
          "histogram2d": [
           {
            "colorbar": {
             "outlinewidth": 0,
             "ticks": ""
            },
            "colorscale": [
             [
              0,
              "#0d0887"
             ],
             [
              0.1111111111111111,
              "#46039f"
             ],
             [
              0.2222222222222222,
              "#7201a8"
             ],
             [
              0.3333333333333333,
              "#9c179e"
             ],
             [
              0.4444444444444444,
              "#bd3786"
             ],
             [
              0.5555555555555556,
              "#d8576b"
             ],
             [
              0.6666666666666666,
              "#ed7953"
             ],
             [
              0.7777777777777778,
              "#fb9f3a"
             ],
             [
              0.8888888888888888,
              "#fdca26"
             ],
             [
              1,
              "#f0f921"
             ]
            ],
            "type": "histogram2d"
           }
          ],
          "histogram2dcontour": [
           {
            "colorbar": {
             "outlinewidth": 0,
             "ticks": ""
            },
            "colorscale": [
             [
              0,
              "#0d0887"
             ],
             [
              0.1111111111111111,
              "#46039f"
             ],
             [
              0.2222222222222222,
              "#7201a8"
             ],
             [
              0.3333333333333333,
              "#9c179e"
             ],
             [
              0.4444444444444444,
              "#bd3786"
             ],
             [
              0.5555555555555556,
              "#d8576b"
             ],
             [
              0.6666666666666666,
              "#ed7953"
             ],
             [
              0.7777777777777778,
              "#fb9f3a"
             ],
             [
              0.8888888888888888,
              "#fdca26"
             ],
             [
              1,
              "#f0f921"
             ]
            ],
            "type": "histogram2dcontour"
           }
          ],
          "mesh3d": [
           {
            "colorbar": {
             "outlinewidth": 0,
             "ticks": ""
            },
            "type": "mesh3d"
           }
          ],
          "parcoords": [
           {
            "line": {
             "colorbar": {
              "outlinewidth": 0,
              "ticks": ""
             }
            },
            "type": "parcoords"
           }
          ],
          "pie": [
           {
            "automargin": true,
            "type": "pie"
           }
          ],
          "scatter": [
           {
            "fillpattern": {
             "fillmode": "overlay",
             "size": 10,
             "solidity": 0.2
            },
            "type": "scatter"
           }
          ],
          "scatter3d": [
           {
            "line": {
             "colorbar": {
              "outlinewidth": 0,
              "ticks": ""
             }
            },
            "marker": {
             "colorbar": {
              "outlinewidth": 0,
              "ticks": ""
             }
            },
            "type": "scatter3d"
           }
          ],
          "scattercarpet": [
           {
            "marker": {
             "colorbar": {
              "outlinewidth": 0,
              "ticks": ""
             }
            },
            "type": "scattercarpet"
           }
          ],
          "scattergeo": [
           {
            "marker": {
             "colorbar": {
              "outlinewidth": 0,
              "ticks": ""
             }
            },
            "type": "scattergeo"
           }
          ],
          "scattergl": [
           {
            "marker": {
             "colorbar": {
              "outlinewidth": 0,
              "ticks": ""
             }
            },
            "type": "scattergl"
           }
          ],
          "scattermapbox": [
           {
            "marker": {
             "colorbar": {
              "outlinewidth": 0,
              "ticks": ""
             }
            },
            "type": "scattermapbox"
           }
          ],
          "scatterpolar": [
           {
            "marker": {
             "colorbar": {
              "outlinewidth": 0,
              "ticks": ""
             }
            },
            "type": "scatterpolar"
           }
          ],
          "scatterpolargl": [
           {
            "marker": {
             "colorbar": {
              "outlinewidth": 0,
              "ticks": ""
             }
            },
            "type": "scatterpolargl"
           }
          ],
          "scatterternary": [
           {
            "marker": {
             "colorbar": {
              "outlinewidth": 0,
              "ticks": ""
             }
            },
            "type": "scatterternary"
           }
          ],
          "surface": [
           {
            "colorbar": {
             "outlinewidth": 0,
             "ticks": ""
            },
            "colorscale": [
             [
              0,
              "#0d0887"
             ],
             [
              0.1111111111111111,
              "#46039f"
             ],
             [
              0.2222222222222222,
              "#7201a8"
             ],
             [
              0.3333333333333333,
              "#9c179e"
             ],
             [
              0.4444444444444444,
              "#bd3786"
             ],
             [
              0.5555555555555556,
              "#d8576b"
             ],
             [
              0.6666666666666666,
              "#ed7953"
             ],
             [
              0.7777777777777778,
              "#fb9f3a"
             ],
             [
              0.8888888888888888,
              "#fdca26"
             ],
             [
              1,
              "#f0f921"
             ]
            ],
            "type": "surface"
           }
          ],
          "table": [
           {
            "cells": {
             "fill": {
              "color": "#EBF0F8"
             },
             "line": {
              "color": "white"
             }
            },
            "header": {
             "fill": {
              "color": "#C8D4E3"
             },
             "line": {
              "color": "white"
             }
            },
            "type": "table"
           }
          ]
         },
         "layout": {
          "annotationdefaults": {
           "arrowcolor": "#2a3f5f",
           "arrowhead": 0,
           "arrowwidth": 1
          },
          "autotypenumbers": "strict",
          "coloraxis": {
           "colorbar": {
            "outlinewidth": 0,
            "ticks": ""
           }
          },
          "colorscale": {
           "diverging": [
            [
             0,
             "#8e0152"
            ],
            [
             0.1,
             "#c51b7d"
            ],
            [
             0.2,
             "#de77ae"
            ],
            [
             0.3,
             "#f1b6da"
            ],
            [
             0.4,
             "#fde0ef"
            ],
            [
             0.5,
             "#f7f7f7"
            ],
            [
             0.6,
             "#e6f5d0"
            ],
            [
             0.7,
             "#b8e186"
            ],
            [
             0.8,
             "#7fbc41"
            ],
            [
             0.9,
             "#4d9221"
            ],
            [
             1,
             "#276419"
            ]
           ],
           "sequential": [
            [
             0,
             "#0d0887"
            ],
            [
             0.1111111111111111,
             "#46039f"
            ],
            [
             0.2222222222222222,
             "#7201a8"
            ],
            [
             0.3333333333333333,
             "#9c179e"
            ],
            [
             0.4444444444444444,
             "#bd3786"
            ],
            [
             0.5555555555555556,
             "#d8576b"
            ],
            [
             0.6666666666666666,
             "#ed7953"
            ],
            [
             0.7777777777777778,
             "#fb9f3a"
            ],
            [
             0.8888888888888888,
             "#fdca26"
            ],
            [
             1,
             "#f0f921"
            ]
           ],
           "sequentialminus": [
            [
             0,
             "#0d0887"
            ],
            [
             0.1111111111111111,
             "#46039f"
            ],
            [
             0.2222222222222222,
             "#7201a8"
            ],
            [
             0.3333333333333333,
             "#9c179e"
            ],
            [
             0.4444444444444444,
             "#bd3786"
            ],
            [
             0.5555555555555556,
             "#d8576b"
            ],
            [
             0.6666666666666666,
             "#ed7953"
            ],
            [
             0.7777777777777778,
             "#fb9f3a"
            ],
            [
             0.8888888888888888,
             "#fdca26"
            ],
            [
             1,
             "#f0f921"
            ]
           ]
          },
          "colorway": [
           "#636efa",
           "#EF553B",
           "#00cc96",
           "#ab63fa",
           "#FFA15A",
           "#19d3f3",
           "#FF6692",
           "#B6E880",
           "#FF97FF",
           "#FECB52"
          ],
          "font": {
           "color": "#2a3f5f"
          },
          "geo": {
           "bgcolor": "white",
           "lakecolor": "white",
           "landcolor": "#E5ECF6",
           "showlakes": true,
           "showland": true,
           "subunitcolor": "white"
          },
          "hoverlabel": {
           "align": "left"
          },
          "hovermode": "closest",
          "mapbox": {
           "style": "light"
          },
          "paper_bgcolor": "white",
          "plot_bgcolor": "#E5ECF6",
          "polar": {
           "angularaxis": {
            "gridcolor": "white",
            "linecolor": "white",
            "ticks": ""
           },
           "bgcolor": "#E5ECF6",
           "radialaxis": {
            "gridcolor": "white",
            "linecolor": "white",
            "ticks": ""
           }
          },
          "scene": {
           "xaxis": {
            "backgroundcolor": "#E5ECF6",
            "gridcolor": "white",
            "gridwidth": 2,
            "linecolor": "white",
            "showbackground": true,
            "ticks": "",
            "zerolinecolor": "white"
           },
           "yaxis": {
            "backgroundcolor": "#E5ECF6",
            "gridcolor": "white",
            "gridwidth": 2,
            "linecolor": "white",
            "showbackground": true,
            "ticks": "",
            "zerolinecolor": "white"
           },
           "zaxis": {
            "backgroundcolor": "#E5ECF6",
            "gridcolor": "white",
            "gridwidth": 2,
            "linecolor": "white",
            "showbackground": true,
            "ticks": "",
            "zerolinecolor": "white"
           }
          },
          "shapedefaults": {
           "line": {
            "color": "#2a3f5f"
           }
          },
          "ternary": {
           "aaxis": {
            "gridcolor": "white",
            "linecolor": "white",
            "ticks": ""
           },
           "baxis": {
            "gridcolor": "white",
            "linecolor": "white",
            "ticks": ""
           },
           "bgcolor": "#E5ECF6",
           "caxis": {
            "gridcolor": "white",
            "linecolor": "white",
            "ticks": ""
           }
          },
          "title": {
           "x": 0.05
          },
          "xaxis": {
           "automargin": true,
           "gridcolor": "white",
           "linecolor": "white",
           "ticks": "",
           "title": {
            "standoff": 15
           },
           "zerolinecolor": "white",
           "zerolinewidth": 2
          },
          "yaxis": {
           "automargin": true,
           "gridcolor": "white",
           "linecolor": "white",
           "ticks": "",
           "title": {
            "standoff": 15
           },
           "zerolinecolor": "white",
           "zerolinewidth": 2
          }
         }
        },
        "title": {
         "text": "Correlation Matrix Heatmap - Fluxes and pauses between tokens",
         "x": 0.5
        },
        "width": 1280,
        "xaxis": {
         "dtick": 1,
         "gridcolor": "rgb(0, 0, 0)",
         "side": "top",
         "ticks": ""
        },
        "yaxis": {
         "dtick": 1,
         "ticks": "",
         "ticksuffix": "  "
        }
       }
      }
     },
     "metadata": {},
     "output_type": "display_data"
    }
   ],
   "source": [
    "import plotly.figure_factory as ff\n",
    "# Compute correlation matrix\n",
    "corr_matrix = df.corr(method='pearson')\n",
    "\n",
    "# Create a heatmap\n",
    "fig = ff.create_annotated_heatmap(\n",
    "    z=corr_matrix.values,\n",
    "    x=list(corr_matrix.columns),\n",
    "    y=list(corr_matrix.index),\n",
    "    annotation_text=corr_matrix.round(2).values,\n",
    "    colorscale='Viridis',\n",
    "    showscale=True\n",
    ")\n",
    "\n",
    "# Update layout to make it more readable\n",
    "fig.update_layout(\n",
    "    title_text='Correlation Matrix Heatmap - Fluxes and pauses between tokens', \n",
    "    title_x=0.5,\n",
    "    width=1280,  # Width for 16:9 slide\n",
    "    height=720  # Height for 16:9 slide\n",
    ")\n",
    "\n",
    "# Show the heatmap\n",
    "fig.show()"
   ]
  }
 ],
 "metadata": {
  "kernelspec": {
   "display_name": "Python 3",
   "language": "python",
   "name": "python3"
  },
  "language_info": {
   "codemirror_mode": {
    "name": "ipython",
    "version": 3
   },
   "file_extension": ".py",
   "mimetype": "text/x-python",
   "name": "python",
   "nbconvert_exporter": "python",
   "pygments_lexer": "ipython3",
   "version": "3.11.9"
  }
 },
 "nbformat": 4,
 "nbformat_minor": 2
}
